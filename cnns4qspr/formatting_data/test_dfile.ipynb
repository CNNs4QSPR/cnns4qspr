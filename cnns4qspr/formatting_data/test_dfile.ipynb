{
 "cells": [
  {
   "cell_type": "code",
   "execution_count": 4,
   "metadata": {},
   "outputs": [],
   "source": [
    "import torch\n",
    "import os\n",
    "import numpy as np\n",
    "import pandas as pd\n",
    "from biopandas.mol2 import PandasMol2\n",
    "from biopandas.pdb import PandasPdb\n",
    "from scipy.stats import special_ortho_group"
   ]
  },
  {
   "cell_type": "code",
   "execution_count": 99,
   "metadata": {},
   "outputs": [],
   "source": [
    "\n",
    "\n",
    "# class CathData(torch.utils.data.Dataset):\n",
    "\n",
    "def load_pdb(file):\n",
    "\n",
    "    discretization_bins=50\n",
    "    discretization_bin_size=2.0\n",
    "    # discretization_bins = discretization_bins\n",
    "    # discretization_bin_size = discretization_bin_size\n",
    "\n",
    "    ppdb = PandasPdb().fetch_pdb('3eiy')\n",
    "\n",
    "\n",
    "    openf=ppdb.read_pdb(file)\n",
    "    openf.df['ATOM'].head()\n",
    "\n",
    "    x=[]\n",
    "    y=[]\n",
    "    z=[]\n",
    "    xcoord=openf.df['ATOM']['x_coord'].values.tolist()\n",
    "    ycoord=openf.df['ATOM']['y_coord'].values.tolist()\n",
    "    zcoord=openf.df['ATOM']['z_coord'].values.tolist()\n",
    "    x.append(xcoord)\n",
    "    y.append(ycoord)\n",
    "    z.append(zcoord)\n",
    "\n",
    "    positions=[]\n",
    "    for i in range(len(x)):\n",
    "        for j in range(len(x[i])):\n",
    "            ls=[x[i][j], y[i][j], z[i][j]]\n",
    "            positions.append(ls)\n",
    "\n",
    "    atom_types=openf.df['ATOM']['atom_name'].values\n",
    "    atom_numbers=openf.df['ATOM']['atom_number'].values\n",
    "\n",
    "    #def __getitem__(self, index):\n",
    "\n",
    "    # n_atoms=self.atom_numbers[ind]\n",
    "    # positions=self.coords[index][:n_atoms]\n",
    "    # atom_types\n",
    "    #\n",
    "    p=discretization_bin_size\n",
    "    n=discretization_bins\n",
    "    \n",
    "    \n",
    "    atom_type_set=np.unique(atom_types)\n",
    "    a=len(atom_type_set)\n",
    "    if torch.cuda.is_available():\n",
    "        fields=torch.cuda.FloatTensor(*(a,)+(n,n,n)).fill_(0)\n",
    "    else:\n",
    "        fields=torch.zeros(*(a,)+(n,n,n))\n",
    "\n",
    "    a = torch.linspace(start=-n / 2 * p + p / 2, end=n / 2 * p - p / 2, steps=n)\n",
    "#     if torch.cuda.is_available():\n",
    "#         a = a.cuda()\n",
    "\n",
    "\n",
    "    xx = a.view(-1, 1, 1).repeat(1, len(a), len(a))\n",
    "    yy = a.view(1, -1, 1).repeat(len(a), 1, len(a))\n",
    "    zz = a.view(1, 1, -1).repeat(len(a), len(a), 1)\n",
    "\n",
    "#     atom_type_set=np.unique(atom_types[atom_numbers])\n",
    "\n",
    "     ##changing the atom_type_set for now using just a single input\n",
    "    for i, atom_type in enumerate(['CA']):\n",
    "        print(atom_types)\n",
    "        print(type(atom_types))\n",
    "        print(atom_types == 'CA')\n",
    "        print('This is the type of positions',type(positions))\n",
    "        positions = np.array(positions)\n",
    "        pos = positions[atom_types == atom_type]\n",
    "#         pos = positions[0] #changing pos here\n",
    "        pos = torch.FloatTensor(pos)\n",
    "#         if torch.cuda.is_available():\n",
    "#             pos=pos.cuda()\n",
    "\n",
    "        xx_xx = xx.view(-1,1).repeat(1, len(pos))\n",
    "        posx_posx = pos[:, 0].contiguous().view(1, -1).repeat(len(xx.view(-1)),1)\n",
    "        yy_yy = yy.view(-1, 1).repeat(1, len(pos))\n",
    "        posy_posy = pos[:, 1].contiguous().view(1, -1).repeat(len(yy.view(-1)), 1)\n",
    "        zz_zz = zz.view(-1, 1).repeat(1, len(pos))\n",
    "        posz_posz = pos[:, 2].contiguous().view(1, -1).repeat(len(zz.view(-1)), 1)\n",
    "\n",
    "        sigma = 0.5*p\n",
    "        density=torch.exp(-((xx_xx - posx_posx)**2 + (yy_yy - posy_posy)**2 + (zz_zz - posz_posz)**2) / (2 * (sigma)**2))\n",
    "\n",
    "        density /= torch.sum(density, dim=0)\n",
    "\n",
    "        fields[i] = torch.sum(density, dim=1).view(xx.shape)\n",
    "    \n",
    "    return fields\n"
   ]
  },
  {
   "cell_type": "code",
   "execution_count": 103,
   "metadata": {
    "scrolled": false
   },
   "outputs": [
    {
     "name": "stdout",
     "output_type": "stream",
     "text": [
      "['N' 'CA' 'C' ... 'CE1' 'NE2' 'OXT']\n",
      "<class 'numpy.ndarray'>\n",
      "[False  True False ... False False False]\n",
      "This is the type of positions <class 'list'>\n"
     ]
    }
   ],
   "source": [
    "atom_fields = load_pdb('1a00B00')"
   ]
  },
  {
   "cell_type": "code",
   "execution_count": 106,
   "metadata": {},
   "outputs": [
    {
     "name": "stdout",
     "output_type": "stream",
     "text": [
      "torch.Size([37, 50, 50, 50])\n"
     ]
    }
   ],
   "source": [
    "print(atom_fields.shape)"
   ]
  },
  {
   "cell_type": "code",
   "execution_count": 107,
   "metadata": {},
   "outputs": [],
   "source": [
    "field1 = atom_fields[1]"
   ]
  },
  {
   "cell_type": "code",
   "execution_count": 109,
   "metadata": {},
   "outputs": [
    {
     "name": "stdout",
     "output_type": "stream",
     "text": [
      "torch.Size([50, 50, 50])\n"
     ]
    }
   ],
   "source": [
    "print(field1.shape)"
   ]
  },
  {
   "cell_type": "code",
   "execution_count": 119,
   "metadata": {},
   "outputs": [
    {
     "name": "stdout",
     "output_type": "stream",
     "text": [
      "tensor([0., 0., 0., 0., 0., 0., 0., 0., 0., 0., 0., 0., 0., 0., 0., 0., 0., 0., 0., 0., 0., 0., 0., 0.,\n",
      "        0., 0., 0., 0., 0., 0., 0., 0., 0., 0., 0., 0., 0., 0., 0., 0., 0., 0., 0., 0., 0., 0., 0., 0.,\n",
      "        0., 0.])\n"
     ]
    }
   ],
   "source": [
    "print(field1[25][25])\n"
   ]
  },
  {
   "cell_type": "code",
   "execution_count": null,
   "metadata": {},
   "outputs": [],
   "source": []
  }
 ],
 "metadata": {
  "kernelspec": {
   "display_name": "Python 3",
   "language": "python",
   "name": "python3"
  },
  "language_info": {
   "codemirror_mode": {
    "name": "ipython",
    "version": 3
   },
   "file_extension": ".py",
   "mimetype": "text/x-python",
   "name": "python",
   "nbconvert_exporter": "python",
   "pygments_lexer": "ipython3",
   "version": "3.7.4"
  }
 },
 "nbformat": 4,
 "nbformat_minor": 2
}

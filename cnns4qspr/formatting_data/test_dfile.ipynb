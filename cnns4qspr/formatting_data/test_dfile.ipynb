{
 "cells": [
  {
   "cell_type": "code",
   "execution_count": 1,
   "metadata": {},
   "outputs": [],
   "source": [
    "import torch\n",
    "import os\n",
    "import numpy as np\n",
    "import pandas as pd\n",
    "from biopandas.mol2 import PandasMol2\n",
    "from biopandas.pdb import PandasPdb\n",
    "from scipy.stats import special_ortho_group"
   ]
  },
  {
   "cell_type": "code",
   "execution_count": 2,
   "metadata": {},
   "outputs": [],
   "source": [
    "\n",
    "\n",
    "# class CathData(torch.utils.data.Dataset):\n",
    "\n",
    "def load_pdb(file):\n",
    "\n",
    "    discretization_bins=50\n",
    "    discretization_bin_size=2.0\n",
    "    # discretization_bins = discretization_bins\n",
    "    # discretization_bin_size = discretization_bin_size\n",
    "\n",
    "    ppdb = PandasPdb().fetch_pdb('3eiy')\n",
    "\n",
    "\n",
    "    openf=ppdb.read_pdb(file)\n",
    "    openf.df['ATOM'].head()\n",
    "\n",
    "    x=[]\n",
    "    y=[]\n",
    "    z=[]\n",
    "    xcoord=openf.df['ATOM']['x_coord'].values.tolist()\n",
    "    ycoord=openf.df['ATOM']['y_coord'].values.tolist()\n",
    "    zcoord=openf.df['ATOM']['z_coord'].values.tolist()\n",
    "    x.append(xcoord)\n",
    "    y.append(ycoord)\n",
    "    z.append(zcoord)\n",
    "\n",
    "    positions=[]\n",
    "    for i in range(len(x)):\n",
    "        for j in range(len(x[i])):\n",
    "            ls=[x[i][j], y[i][j], z[i][j]]\n",
    "            positions.append(ls)\n",
    "\n",
    "    atom_types=openf.df['ATOM']['atom_name'].values\n",
    "    atom_numbers=openf.df['ATOM']['atom_number'].values\n",
    "\n",
    "    #def __getitem__(self, index):\n",
    "\n",
    "    # n_atoms=self.atom_numbers[ind]\n",
    "    # positions=self.coords[index][:n_atoms]\n",
    "    # atom_types\n",
    "    #\n",
    "    p=discretization_bin_size\n",
    "    n=discretization_bins\n",
    "\n",
    "    if torch.cuda.is_available():\n",
    "        fields=torch.cuda.FloatTensor(*(atom_types,)+(n,n,n)).fill_(0)\n",
    "    else:\n",
    "        fields=torch.zeros(*(atom_types,)+(n,n,n))\n",
    "\n",
    "    a = torch.linspace(start=-n / 2 * p + p / 2, end=n / 2 * p - p / 2, steps=n)\n",
    "    if torch.cuda.is_available():\n",
    "        a = a.cuda()\n",
    "\n",
    "\n",
    "    xx = a.view(-1, 1, 1).repeat(1, len(a), len(a))\n",
    "    yy = a.view(1, -1, 1).repeat(len(a), 1, len(a))\n",
    "    zz = a.view(1, 1, -1).repeat(len(a), len(a), 1)\n",
    "\n",
    "    atom_type_set=np.unique(atom_types[atom_numbers])\n",
    "\n",
    "    for i,atom_type in enumerate(atom_type_set):\n",
    "\n",
    "        pos = positions[atom_types == atom_type]\n",
    "\n",
    "        pos = torch.FloatTensor(pos)\n",
    "        if torch.cuda.is_available():\n",
    "            pos=pos.cuda()\n",
    "\n",
    "        xx_xx = xx.view(-1,1).repeat(1, len(pos))\n",
    "        posx_posx = pos[:, 0].contiguous().view(1, -1).repeat(len(xx.view(-1)),1)\n",
    "        yy_yy = yy.view(-1, 1).repeat(1, len(pos))\n",
    "        posy_posy = pos[:, 1].contiguous().view(1, -1).repeat(len(yy.view(-1)), 1)\n",
    "        zz_zz = zz.view(-1, 1).repeat(1, len(pos))\n",
    "        posz_posz = pos[:, 2].contiguous().view(1, -1).repeat(len(zz.view(-1)), 1)\n",
    "\n",
    "        sigma = 0.5*p\n",
    "        density=torch.exp(-((xx_xx - posx_posx)**2 + (yy_yy - posy_posy)**2 + (zz_zz - posz_posz)**2) / (2 * (sigma)**2))\n",
    "\n",
    "        density /= torch.sum(density, dim=0)\n",
    "\n",
    "        fields[i] = torch.sum(density, dim=1).view(xx.shape)\n"
   ]
  },
  {
   "cell_type": "code",
   "execution_count": 3,
   "metadata": {},
   "outputs": [
    {
     "ename": "TypeError",
     "evalue": "zeros() received an invalid combination of arguments - got (numpy.ndarray, int, int, int), but expected one of:\n * (tuple of ints size, tuple of names names, torch.dtype dtype, torch.layout layout, torch.device device, bool pin_memory, bool requires_grad)\n * (tuple of ints size, Tensor out, torch.dtype dtype, torch.layout layout, torch.device device, bool pin_memory, bool requires_grad)\n",
     "output_type": "error",
     "traceback": [
      "\u001b[0;31m---------------------------------------------------------------------------\u001b[0m",
      "\u001b[0;31mTypeError\u001b[0m                                 Traceback (most recent call last)",
      "\u001b[0;32m<ipython-input-3-e0b5d31e310a>\u001b[0m in \u001b[0;36m<module>\u001b[0;34m\u001b[0m\n\u001b[0;32m----> 1\u001b[0;31m \u001b[0mload_pdb\u001b[0m\u001b[0;34m(\u001b[0m\u001b[0;34m'1a00B00'\u001b[0m\u001b[0;34m)\u001b[0m\u001b[0;34m\u001b[0m\u001b[0;34m\u001b[0m\u001b[0m\n\u001b[0m",
      "\u001b[0;32m<ipython-input-2-497c94161cfc>\u001b[0m in \u001b[0;36mload_pdb\u001b[0;34m(file)\u001b[0m\n\u001b[1;32m     45\u001b[0m         \u001b[0mfields\u001b[0m\u001b[0;34m=\u001b[0m\u001b[0mtorch\u001b[0m\u001b[0;34m.\u001b[0m\u001b[0mcuda\u001b[0m\u001b[0;34m.\u001b[0m\u001b[0mFloatTensor\u001b[0m\u001b[0;34m(\u001b[0m\u001b[0;34m*\u001b[0m\u001b[0;34m(\u001b[0m\u001b[0matom_types\u001b[0m\u001b[0;34m,\u001b[0m\u001b[0;34m)\u001b[0m\u001b[0;34m+\u001b[0m\u001b[0;34m(\u001b[0m\u001b[0mn\u001b[0m\u001b[0;34m,\u001b[0m\u001b[0mn\u001b[0m\u001b[0;34m,\u001b[0m\u001b[0mn\u001b[0m\u001b[0;34m)\u001b[0m\u001b[0;34m)\u001b[0m\u001b[0;34m.\u001b[0m\u001b[0mfill_\u001b[0m\u001b[0;34m(\u001b[0m\u001b[0;36m0\u001b[0m\u001b[0;34m)\u001b[0m\u001b[0;34m\u001b[0m\u001b[0;34m\u001b[0m\u001b[0m\n\u001b[1;32m     46\u001b[0m     \u001b[0;32melse\u001b[0m\u001b[0;34m:\u001b[0m\u001b[0;34m\u001b[0m\u001b[0;34m\u001b[0m\u001b[0m\n\u001b[0;32m---> 47\u001b[0;31m         \u001b[0mfields\u001b[0m\u001b[0;34m=\u001b[0m\u001b[0mtorch\u001b[0m\u001b[0;34m.\u001b[0m\u001b[0mzeros\u001b[0m\u001b[0;34m(\u001b[0m\u001b[0;34m*\u001b[0m\u001b[0;34m(\u001b[0m\u001b[0matom_types\u001b[0m\u001b[0;34m,\u001b[0m\u001b[0;34m)\u001b[0m\u001b[0;34m+\u001b[0m\u001b[0;34m(\u001b[0m\u001b[0mn\u001b[0m\u001b[0;34m,\u001b[0m\u001b[0mn\u001b[0m\u001b[0;34m,\u001b[0m\u001b[0mn\u001b[0m\u001b[0;34m)\u001b[0m\u001b[0;34m)\u001b[0m\u001b[0;34m\u001b[0m\u001b[0;34m\u001b[0m\u001b[0m\n\u001b[0m\u001b[1;32m     48\u001b[0m \u001b[0;34m\u001b[0m\u001b[0m\n\u001b[1;32m     49\u001b[0m     \u001b[0ma\u001b[0m \u001b[0;34m=\u001b[0m \u001b[0mtorch\u001b[0m\u001b[0;34m.\u001b[0m\u001b[0mlinspace\u001b[0m\u001b[0;34m(\u001b[0m\u001b[0mstart\u001b[0m\u001b[0;34m=\u001b[0m\u001b[0;34m-\u001b[0m\u001b[0mn\u001b[0m \u001b[0;34m/\u001b[0m \u001b[0;36m2\u001b[0m \u001b[0;34m*\u001b[0m \u001b[0mp\u001b[0m \u001b[0;34m+\u001b[0m \u001b[0mp\u001b[0m \u001b[0;34m/\u001b[0m \u001b[0;36m2\u001b[0m\u001b[0;34m,\u001b[0m \u001b[0mend\u001b[0m\u001b[0;34m=\u001b[0m\u001b[0mn\u001b[0m \u001b[0;34m/\u001b[0m \u001b[0;36m2\u001b[0m \u001b[0;34m*\u001b[0m \u001b[0mp\u001b[0m \u001b[0;34m-\u001b[0m \u001b[0mp\u001b[0m \u001b[0;34m/\u001b[0m \u001b[0;36m2\u001b[0m\u001b[0;34m,\u001b[0m \u001b[0msteps\u001b[0m\u001b[0;34m=\u001b[0m\u001b[0mn\u001b[0m\u001b[0;34m)\u001b[0m\u001b[0;34m\u001b[0m\u001b[0;34m\u001b[0m\u001b[0m\n",
      "\u001b[0;31mTypeError\u001b[0m: zeros() received an invalid combination of arguments - got (numpy.ndarray, int, int, int), but expected one of:\n * (tuple of ints size, tuple of names names, torch.dtype dtype, torch.layout layout, torch.device device, bool pin_memory, bool requires_grad)\n * (tuple of ints size, Tensor out, torch.dtype dtype, torch.layout layout, torch.device device, bool pin_memory, bool requires_grad)\n"
     ]
    }
   ],
   "source": [
    "load_pdb('1a00B00')"
   ]
  },
  {
   "cell_type": "code",
   "execution_count": null,
   "metadata": {},
   "outputs": [],
   "source": []
  }
 ],
 "metadata": {
  "kernelspec": {
   "display_name": "Python 3",
   "language": "python",
   "name": "python3"
  },
  "language_info": {
   "codemirror_mode": {
    "name": "ipython",
    "version": 3
   },
   "file_extension": ".py",
   "mimetype": "text/x-python",
   "name": "python",
   "nbconvert_exporter": "python",
   "pygments_lexer": "ipython3",
   "version": "3.7.3"
  }
 },
 "nbformat": 4,
 "nbformat_minor": 2
}
